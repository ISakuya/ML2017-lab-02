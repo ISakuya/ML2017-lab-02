{
 "cells": [
  {
   "cell_type": "code",
   "execution_count": 8,
   "metadata": {},
   "outputs": [
    {
     "data": {
      "image/png": "[encoded data removed]",
      "text/plain": [
       "<matplotlib.figure.Figure at 0x7f6106bdec18>"
      ]
     },
     "metadata": {},
     "output_type": "display_data"
    }
   ],
   "source": [
    "# Make a prediction\n",
    "from math import exp\n",
    "import numpy as np\n",
    "import matplotlib.pyplot as plt\n",
    "import sklearn.datasets as sd\n",
    "import random\n",
    "import math\n",
    "from sklearn.model_selection import train_test_split\n",
    "\n",
    "def predict(row, w):\n",
    "    n = row.shape[1]\n",
    "    yhat = row.dot(w)[0][0]\n",
    "    return 1.0 / (1.0 + exp(-yhat))\n",
    "\n",
    "def getLoss(w,x,y):\n",
    "    m = x.shape[0]\n",
    "    loss = 0\n",
    "    for i in range(m):\n",
    "        xi = np.column_stack(([1],X_train.getrow(i).toarray()))\n",
    "        if y[i] == 1:\n",
    "            loss += -math.log(predict(xi, w))\n",
    "        else:\n",
    "            loss += -math.log(1 - predict(xi, w))\n",
    "    return loss\n",
    "\n",
    "def updateWeight(w,x,y):\n",
    "    m = X_train.shape[0]\n",
    "    n = X_train.shape[1] + 1\n",
    "\n",
    "    i = int(random.uniform(0,m-1))\n",
    "    xi = np.column_stack(([1],X_train.getrow(i).toarray()))\n",
    "    yhat = predict(xi, w)\n",
    "    error = y_train[i] - yhat\n",
    "    for j in range(n):\n",
    "        w[j][0] = w[j][0] + alpha * error * yhat * (1.0 - yhat) * xi[0][j]\n",
    "    return w\n",
    "\n",
    "data = sd.load_svmlight_file('australian_scale')\n",
    "X,y = data[0],data[1]\n",
    "for i in range(y.shape[0]):\n",
    "    if y[i] == -1: y[i] = 0\n",
    "X_train, X_test, y_train, y_test = train_test_split(X, y, test_size=0.2, random_state=30)\n",
    "\n",
    "alpha = 0.05\n",
    "times = 100\n",
    "w = np.zeros((X.shape[1] + 1,1))\n",
    "trainLossList = []\n",
    "testLossList = []\n",
    "for i in range(times):\n",
    "    w = updateWeight(w, X_train, y_train)\n",
    "    trainLossList.append(getLoss(w,X_train,y_train))\n",
    "    testLossList.append(getLoss(w,X_test,y_test))\n",
    "time = np.arange(times)\n",
    "plt.plot(time, trainLossList, label='train')\n",
    "plt.plot(time, testLossList, label='test')\n",
    "plt.show()"
   ]
  }
 ],
 "metadata": {
  "kernelspec": {
   "display_name": "Python 3",
   "language": "python",
   "name": "python3"
  },
  "language_info": {
   "codemirror_mode": {
    "name": "ipython",
    "version": 3
   },
   "file_extension": ".py",
   "mimetype": "text/x-python",
   "name": "python",
   "nbconvert_exporter": "python",
   "pygments_lexer": "ipython3",
   "version": "3.5.2"
  }
 },
 "nbformat": 4,
 "nbformat_minor": 2
}
